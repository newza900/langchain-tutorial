{
 "cells": [
  {
   "cell_type": "code",
   "execution_count": 1,
   "metadata": {},
   "outputs": [
    {
     "data": {
      "text/plain": [
       "True"
      ]
     },
     "execution_count": 1,
     "metadata": {},
     "output_type": "execute_result"
    }
   ],
   "source": [
    "from dotenv import load_dotenv\n",
    "load_dotenv() # .envファイルから環境変数を読み込み(OPENAI_API_KEY変数にAPI Keyが入っている)"
   ]
  },
  {
   "cell_type": "code",
   "execution_count": 2,
   "metadata": {},
   "outputs": [],
   "source": [
    "from langchain_openai import ChatOpenAI\n",
    "llm = ChatOpenAI() # これだけでモデルを初期化できるぽい"
   ]
  },
  {
   "cell_type": "code",
   "execution_count": 3,
   "metadata": {},
   "outputs": [
    {
     "name": "stdout",
     "output_type": "stream",
     "text": [
      "content='Langsmithは、テストを支援するためのさまざまな機能を提供しています。具体的には以下のようなものがあります。\\n\\n1. テスト作成支援: Langsmithは、テストケースを作成する際に役立つツールを提供しています。自動的にテストケースを生成したり、既存のテストケースを再利用したりすることができます。\\n\\n2. テスト実行支援: Langsmithは、テストケースの実行を支援するための機能を提供しています。テストケースの実行を自動化したり、結果を収集したり、実行時間やカバレッジなどの情報を提供したりすることができます。\\n\\n3. テスト管理支援: Langsmithは、テストケースやテスト結果の管理を支援するための機能を提供しています。テストケースやテストスイートを整理し、結果を追跡することができます。また、テストの進捗やカバレッジの情報を表示するダッシュボードも提供しています。\\n\\n4. テスト自動化支援: Langsmithは、テストの自動化を支援するための機能を提供しています。テストスクリプトの作成や実行、結果の分析を自動化することができます。また、CI/CDツールとの統合もサポートしています。\\n\\n5. テスト分析支援: Langsmithは、テスト結果を分析するための機能を提供しています。テストのパフォーマンスや品質に関する情報を収集し、問題の特定や改善のためのアドバイスを提供します。\\n\\n以上のような機能を通じて、Langsmithはテストを支援し、効率的かつ品質の高いテストプロセスを実現します。'\n"
     ]
    }
   ],
   "source": [
    "# これでモデルと会話することができる\n",
    "print(llm.invoke(\"langsmithはどのようにテストを支援してくれますか？\"))"
   ]
  },
  {
   "cell_type": "code",
   "execution_count": 4,
   "metadata": {},
   "outputs": [],
   "source": [
    "# プロンプトテンプレートを使うこともできる\n",
    "from langchain_core.prompts import ChatPromptTemplate\n",
    "\n",
    "# この例だとシステムに「技術ドキュメントライター」というロールを与えている\n",
    "prompt = ChatPromptTemplate.from_messages([\n",
    "    (\"system\", \"あなたは世界レベルの技術ドキュメントライターです。\"),\n",
    "    (\"user\", \"{input}\")\n",
    "])"
   ]
  },
  {
   "cell_type": "code",
   "execution_count": 6,
   "metadata": {},
   "outputs": [],
   "source": [
    "# 組み合わせてchainをつくる\n",
    "chain = prompt | llm"
   ]
  },
  {
   "cell_type": "code",
   "execution_count": 7,
   "metadata": {},
   "outputs": [
    {
     "data": {
      "text/plain": [
       "AIMessage(content='langsmithはテストの支援に以下のような方法で貢献します：\\n\\n1. 技術ドキュメントの作成：テストに関連するドキュメントを作成し、テストの手順や方法、テストケースの作成方法などを詳細に説明します。これにより、テストの実施や管理が容易になります。\\n\\n2. テストツールのドキュメント化：テストツールの使い方や設定方法、テスト結果の解釈など、テストツールの正しい使い方をドキュメント化します。これにより、テストツールの導入や利用がスムーズになります。\\n\\n3. ガイドラインの作成：テストのベストプラクティスやガイドラインを作成し、チームメンバーが一貫した方法でテストを実施できるようにサポートします。これにより、品質の向上や効率的なテストの実施が可能になります。\\n\\n4. コミュニケーションの支援：テストに関する質問や疑問に対する回答やアドバイスを提供し、テスターとのコミュニケーションを円滑にします。これにより、テストに関する誤解やミスを最小限に抑えることができます。\\n\\n5. ドキュメントのメンテナンス：テストの変更やアップデートに応じて、ドキュメントを適宜更新・メンテナンスします。これにより、常に最新の情報を利用することができます。\\n\\n以上のような方法で、langsmithはテストの支援を行います。')"
      ]
     },
     "execution_count": 7,
     "metadata": {},
     "output_type": "execute_result"
    }
   ],
   "source": [
    "# chainもinvokeで会話できる\n",
    "chain.invoke({\"input\": \"langsmithはどのようにテストを支援してくれますか？\"})"
   ]
  },
  {
   "cell_type": "code",
   "execution_count": 8,
   "metadata": {},
   "outputs": [],
   "source": [
    "# 出力をAIMessageからStringに変える\n",
    "from langchain_core.output_parsers import StrOutputParser\n",
    "\n",
    "output_parser = StrOutputParser()"
   ]
  },
  {
   "cell_type": "code",
   "execution_count": 9,
   "metadata": {},
   "outputs": [],
   "source": [
    "# chainに加える\n",
    "chain = prompt | llm | output_parser"
   ]
  },
  {
   "cell_type": "code",
   "execution_count": 10,
   "metadata": {},
   "outputs": [
    {
     "data": {
      "text/plain": [
       "'Langsmithはテストを支援するために、以下のような機能やツールを提供しています。\\n\\n1. テスト計画の作成支援：Langsmithは、テスト計画の作成をサポートするためのテンプレートやガイドラインを提供します。これにより、テスト計画の作成が効率化され、ベストプラクティスに則った計画が作成されます。\\n\\n2. テストケースの作成支援：Langsmithは、テストケースの作成を支援するためのテンプレートや自動補完機能を提供します。また、テストケースの共有やバージョン管理も容易に行うことができます。\\n\\n3. テスト実行の自動化：Langsmithは、テストの実行を自動化するためのツールやフレームワークを提供します。これにより、繰り返し行われるテストの実行を効率化し、時間とリソースを節約することができます。\\n\\n4. テスト結果の分析とレポート作成：Langsmithは、テスト結果の分析やレポート作成を支援するための機能を提供します。これにより、テストの品質やカバレッジを評価し、問題の特定や解決に役立つ情報を提供することができます。\\n\\n以上のような機能やツールを利用することで、Langsmithはテストの効率性と品質を向上させるお手伝いをします。'"
      ]
     },
     "execution_count": 10,
     "metadata": {},
     "output_type": "execute_result"
    }
   ],
   "source": [
    "chain.invoke({\"input\": \"langsmithはどのようにテストを支援してくれますか？\"})"
   ]
  },
  {
   "cell_type": "code",
   "execution_count": null,
   "metadata": {},
   "outputs": [],
   "source": []
  }
 ],
 "metadata": {
  "kernelspec": {
   "display_name": "workspace",
   "language": "python",
   "name": "python3"
  },
  "language_info": {
   "codemirror_mode": {
    "name": "ipython",
    "version": 3
   },
   "file_extension": ".py",
   "mimetype": "text/x-python",
   "name": "python",
   "nbconvert_exporter": "python",
   "pygments_lexer": "ipython3",
   "version": "3.9.13"
  }
 },
 "nbformat": 4,
 "nbformat_minor": 2
}
